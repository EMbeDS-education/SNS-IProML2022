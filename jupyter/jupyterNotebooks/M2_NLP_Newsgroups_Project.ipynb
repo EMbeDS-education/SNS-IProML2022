{
 "cells": [
  {
   "cell_type": "markdown",
   "metadata": {
    "tags": []
   },
   "source": [
    "<center><font size=\"+4\">IProML 2021/2022</font></center>\n",
    "<center><font size=\"+4\">Introduction to Programming and</font></center>\n",
    "<center><font size=\"+4\">Machine Learning in Python</font></center>\n",
    "<center><font size=\"+4\">MODULE 2</font></center>\n",
    "<center><font size=\"+2\">Scuola Normale Superiore, Pisa, Italy</font></center>\n",
    "\n",
    "<center><font size=\"+2\">Course responsibles</font></center>\n",
    "<center><font size=\"+2\">Andrea Vandin <a href= \"mailto:a.vandin@santannapisa.it\">a.vandin@santannapisa.it</a>\n",
    " &nbsp;&nbsp;&nbsp;&nbsp;&nbsp;&nbsp;&nbsp;&nbsp;&nbsp; Daniele Licari <a href= \"mailto:a.vandin@santannapisa.it\">d.licari@santannapisa.it</a></font></center>\n",
    "\n",
    "---"
   ]
  },
  {
   "cell_type": "markdown",
   "metadata": {
    "id": "1rEC5B5T4oam"
   },
   "source": [
    "# NLP Project\n",
    "Text analysis and classification in Python \n",
    "![](https://miro.medium.com/max/2756/1*-VjRrWpzzu9e3cY2Z-1evg.png)\n",
    "\n",
    "We provide you a NPL model for “embedding” documents in a vector space.\n",
    "- The meaning of a document is a vector of numbers\n",
    "- Similar documents (in term of semantic and syntactic information) have similar vectors\n",
    "- Similar vectors tend to have similar meanings.\n",
    "- Vector models are also called “embeddings”\n",
    "\n",
    "## The dataset\n",
    "- We consider a subset of [the 20 newsgroups dataset](http://qwone.com/~jason/20Newsgroups/) that includes 3732 newsgroups posts on 4 topics:\n",
    "  * sports\n",
    "  * politics\n",
    "  * medicine\n",
    "  * computer graphics\n",
    "\n",
    "\n",
    "- It contains information on 3732 posts\n",
    "  - 1 textual data\n",
    "  - 1 target variable on the topic\n",
    "\n",
    "## Your Task\n",
    "- __Your task is to analyze this dataset in the lines of what shown in the course__\n",
    "  - The final goal is to **obtain a classifier able to predict the topic of new posts**\n",
    "\n",
    "### A possible roadmap to follow\n",
    "- **Exploratory Analysis**\n",
    "  - Check Duplicates, Missing Values and No valid data (very very short texts)\n",
    "  - Distribution of documents over topics\n",
    "  - Average text length over topics (show them in a bar plot)\n",
    "  - Distribution of the length of words and documents on the topics\n",
    "  - Distribution of words (word frequency histogram)\n",
    "  - Most common words in the corpus and presented then nicely with a world cloud \n",
    "    - top 50, taking inspiration from _Creation of wordclouds for COVID-related online news_, class 5 of module 1_\n",
    "  - Most common words in the 4 topics and presented then nicely with 4 world cloud (top 50)\n",
    "  - Multidimensional Visualization\n",
    "    - Trasforms texts into numbers (don't worry, we'll provide you the functions)\n",
    "    - Visualization of text documents using PCA and/or TSNE(coloring according to topics)\n",
    "\n",
    "- **Clustering (assume we don't have the topic information)**\n",
    "  - Clustering text documents using k-means  \n",
    "  - Visualizing text documents using PCA and/or TSNE(coloring according to clusters found)\n",
    "  - Find and analyze centroids\n",
    "  - Most common words in clusters and present then nicely with world clouds (top 50)\n",
    "  \n",
    "- **Text classification**\n",
    "  - Trasforms texts into numbers (don't worry, we'll provide you the functions)\n",
    "  - Split the dataset using stratified sampling\n",
    "  - Create classification models\n",
    "  - Find the best model (with hyperparameter optimization)\n",
    "  - What is the model confused with?\n",
    "\n",
    "\n",
    "\n",
    "- **EXTRA: Semantic Similarity**\n",
    "  - Build a semantic search engine\n",
    "\n",
    "## BEWARE\n",
    "  - Try first to understand the data. Read the provided description. \n",
    "  - Not all datasets are the same\n",
    "    - Do not just blindly apply all tasks seen in class, with the same parameters. \n",
    "    - Try to perform reasoned choices.\n",
    "    -  You are free to choose part of the techniques/tools seen during the course\n",
    "        - **Motivate your choices**\n",
    "  - You should prepare a [colab notebook](https://colab.research.google.com/) containing your analysis\n",
    "    - **Properly commenting/motivating each step with suitable comments**\n",
    "    - Similarly to what we do in the jupyterLab notebooks we use in our classes Classifying text documents into 5 news groups:\n",
    "    - **We suggest you use Colab for this project**\n",
    "\n",
    "\n",
    "\n",
    "\n",
    "\n",
    "\n"
   ]
  },
  {
   "cell_type": "markdown",
   "metadata": {
    "id": "0ZHvzbpcEIaH"
   },
   "source": [
    "# Exploratory Analysis\n",
    "\n",
    "## LOAD DATASET\n"
   ]
  },
  {
   "cell_type": "code",
   "execution_count": null,
   "metadata": {
    "colab": {
     "base_uri": "https://localhost:8080/",
     "height": 206
    },
    "id": "2sKAAuV6gTtA",
    "outputId": "db98abf9-6143-4be5-d4d8-5b03d9de0bbd"
   },
   "outputs": [
    {
     "data": {
      "text/html": [
       "\n",
       "  <div id=\"df-454a0e68-a292-482c-b209-daf4029f5c52\">\n",
       "    <div class=\"colab-df-container\">\n",
       "      <div>\n",
       "<style scoped>\n",
       "    .dataframe tbody tr th:only-of-type {\n",
       "        vertical-align: middle;\n",
       "    }\n",
       "\n",
       "    .dataframe tbody tr th {\n",
       "        vertical-align: top;\n",
       "    }\n",
       "\n",
       "    .dataframe thead th {\n",
       "        text-align: right;\n",
       "    }\n",
       "</style>\n",
       "<table border=\"1\" class=\"dataframe\">\n",
       "  <thead>\n",
       "    <tr style=\"text-align: right;\">\n",
       "      <th></th>\n",
       "      <th>text</th>\n",
       "      <th>topic</th>\n",
       "    </tr>\n",
       "  </thead>\n",
       "  <tbody>\n",
       "    <tr>\n",
       "      <th>0</th>\n",
       "      <td>\\nI guess I'm still not clear on what the term...</td>\n",
       "      <td>sci.med</td>\n",
       "    </tr>\n",
       "    <tr>\n",
       "      <th>1</th>\n",
       "      <td>Could someone give me some information on the ...</td>\n",
       "      <td>sci.med</td>\n",
       "    </tr>\n",
       "    <tr>\n",
       "      <th>2</th>\n",
       "      <td>sandiego and graig nettles\\n\\n\\n</td>\n",
       "      <td>rec.sport.baseball</td>\n",
       "    </tr>\n",
       "    <tr>\n",
       "      <th>3</th>\n",
       "      <td>Hi there\\n\\nI am very interested in Rayshade 4...</td>\n",
       "      <td>comp.graphics</td>\n",
       "    </tr>\n",
       "    <tr>\n",
       "      <th>4</th>\n",
       "      <td>Here is a press release from the Natural Resou...</td>\n",
       "      <td>sci.med</td>\n",
       "    </tr>\n",
       "  </tbody>\n",
       "</table>\n",
       "</div>\n",
       "      <button class=\"colab-df-convert\" onclick=\"convertToInteractive('df-454a0e68-a292-482c-b209-daf4029f5c52')\"\n",
       "              title=\"Convert this dataframe to an interactive table.\"\n",
       "              style=\"display:none;\">\n",
       "        \n",
       "  <svg xmlns=\"http://www.w3.org/2000/svg\" height=\"24px\"viewBox=\"0 0 24 24\"\n",
       "       width=\"24px\">\n",
       "    <path d=\"M0 0h24v24H0V0z\" fill=\"none\"/>\n",
       "    <path d=\"M18.56 5.44l.94 2.06.94-2.06 2.06-.94-2.06-.94-.94-2.06-.94 2.06-2.06.94zm-11 1L8.5 8.5l.94-2.06 2.06-.94-2.06-.94L8.5 2.5l-.94 2.06-2.06.94zm10 10l.94 2.06.94-2.06 2.06-.94-2.06-.94-.94-2.06-.94 2.06-2.06.94z\"/><path d=\"M17.41 7.96l-1.37-1.37c-.4-.4-.92-.59-1.43-.59-.52 0-1.04.2-1.43.59L10.3 9.45l-7.72 7.72c-.78.78-.78 2.05 0 2.83L4 21.41c.39.39.9.59 1.41.59.51 0 1.02-.2 1.41-.59l7.78-7.78 2.81-2.81c.8-.78.8-2.07 0-2.86zM5.41 20L4 18.59l7.72-7.72 1.47 1.35L5.41 20z\"/>\n",
       "  </svg>\n",
       "      </button>\n",
       "      \n",
       "  <style>\n",
       "    .colab-df-container {\n",
       "      display:flex;\n",
       "      flex-wrap:wrap;\n",
       "      gap: 12px;\n",
       "    }\n",
       "\n",
       "    .colab-df-convert {\n",
       "      background-color: #E8F0FE;\n",
       "      border: none;\n",
       "      border-radius: 50%;\n",
       "      cursor: pointer;\n",
       "      display: none;\n",
       "      fill: #1967D2;\n",
       "      height: 32px;\n",
       "      padding: 0 0 0 0;\n",
       "      width: 32px;\n",
       "    }\n",
       "\n",
       "    .colab-df-convert:hover {\n",
       "      background-color: #E2EBFA;\n",
       "      box-shadow: 0px 1px 2px rgba(60, 64, 67, 0.3), 0px 1px 3px 1px rgba(60, 64, 67, 0.15);\n",
       "      fill: #174EA6;\n",
       "    }\n",
       "\n",
       "    [theme=dark] .colab-df-convert {\n",
       "      background-color: #3B4455;\n",
       "      fill: #D2E3FC;\n",
       "    }\n",
       "\n",
       "    [theme=dark] .colab-df-convert:hover {\n",
       "      background-color: #434B5C;\n",
       "      box-shadow: 0px 1px 3px 1px rgba(0, 0, 0, 0.15);\n",
       "      filter: drop-shadow(0px 1px 2px rgba(0, 0, 0, 0.3));\n",
       "      fill: #FFFFFF;\n",
       "    }\n",
       "  </style>\n",
       "\n",
       "      <script>\n",
       "        const buttonEl =\n",
       "          document.querySelector('#df-454a0e68-a292-482c-b209-daf4029f5c52 button.colab-df-convert');\n",
       "        buttonEl.style.display =\n",
       "          google.colab.kernel.accessAllowed ? 'block' : 'none';\n",
       "\n",
       "        async function convertToInteractive(key) {\n",
       "          const element = document.querySelector('#df-454a0e68-a292-482c-b209-daf4029f5c52');\n",
       "          const dataTable =\n",
       "            await google.colab.kernel.invokeFunction('convertToInteractive',\n",
       "                                                     [key], {});\n",
       "          if (!dataTable) return;\n",
       "\n",
       "          const docLinkHtml = 'Like what you see? Visit the ' +\n",
       "            '<a target=\"_blank\" href=https://colab.research.google.com/notebooks/data_table.ipynb>data table notebook</a>'\n",
       "            + ' to learn more about interactive tables.';\n",
       "          element.innerHTML = '';\n",
       "          dataTable['output_type'] = 'display_data';\n",
       "          await google.colab.output.renderOutput(dataTable, element);\n",
       "          const docLink = document.createElement('div');\n",
       "          docLink.innerHTML = docLinkHtml;\n",
       "          element.appendChild(docLink);\n",
       "        }\n",
       "      </script>\n",
       "    </div>\n",
       "  </div>\n",
       "  "
      ],
      "text/plain": [
       "                                                text               topic\n",
       "0  \\nI guess I'm still not clear on what the term...             sci.med\n",
       "1  Could someone give me some information on the ...             sci.med\n",
       "2                   sandiego and graig nettles\\n\\n\\n  rec.sport.baseball\n",
       "3  Hi there\\n\\nI am very interested in Rayshade 4...       comp.graphics\n",
       "4  Here is a press release from the Natural Resou...             sci.med"
      ]
     },
     "execution_count": 1,
     "metadata": {},
     "output_type": "execute_result"
    }
   ],
   "source": [
    "# We retrieve the dataset\n",
    "from sklearn.datasets import fetch_20newsgroups\n",
    "import matplotlib.pyplot as plt\n",
    "import numpy as np\n",
    "import pandas as pd\n",
    "import seaborn as sns\n",
    "import os\n",
    "\n",
    "def load_project_dataset():\n",
    "    # 4 topic\n",
    "    categories = ['talk.politics.misc',  'comp.graphics', 'sci.med','rec.sport.baseball']\n",
    "    newsgroups = fetch_20newsgroups(subset='all', remove=('headers', 'footers', 'quotes'),  categories=categories)\n",
    "    # We load the dataset into dataframe\n",
    "    df_newsgroups = pd.DataFrame(zip(newsgroups.data,[newsgroups.target_names[i] for i in newsgroups.target]), columns=['text','topic'])\n",
    "    return df_newsgroups\n",
    "\n",
    "df_newsgroups = load_project_dataset()\n",
    "df_newsgroups.head()"
   ]
  },
  {
   "cell_type": "markdown",
   "metadata": {
    "id": "I8W7tb-llhr0"
   },
   "source": [
    "## Check quality of data\n",
    " - Duplicate entries\n",
    " - Check for missing values (empty text)\n",
    " - No valid data (very very short texts)\n",
    " - Clean special characters (e.g. '\\n') in text"
   ]
  },
  {
   "cell_type": "code",
   "execution_count": null,
   "metadata": {
    "colab": {
     "base_uri": "https://localhost:8080/",
     "height": 424
    },
    "id": "RyCppf0UloPK",
    "outputId": "ace3596a-fba0-4498-806e-cfedcb359484"
   },
   "outputs": [
    {
     "data": {
      "text/html": [
       "\n",
       "  <div id=\"df-be2e3f4d-10f7-42f7-a4da-cf65a2f53fa3\">\n",
       "    <div class=\"colab-df-container\">\n",
       "      <div>\n",
       "<style scoped>\n",
       "    .dataframe tbody tr th:only-of-type {\n",
       "        vertical-align: middle;\n",
       "    }\n",
       "\n",
       "    .dataframe tbody tr th {\n",
       "        vertical-align: top;\n",
       "    }\n",
       "\n",
       "    .dataframe thead th {\n",
       "        text-align: right;\n",
       "    }\n",
       "</style>\n",
       "<table border=\"1\" class=\"dataframe\">\n",
       "  <thead>\n",
       "    <tr style=\"text-align: right;\">\n",
       "      <th></th>\n",
       "      <th>text</th>\n",
       "      <th>topic</th>\n",
       "    </tr>\n",
       "  </thead>\n",
       "  <tbody>\n",
       "    <tr>\n",
       "      <th>40</th>\n",
       "      <td>\\n</td>\n",
       "      <td>rec.sport.baseball</td>\n",
       "    </tr>\n",
       "    <tr>\n",
       "      <th>112</th>\n",
       "      <td></td>\n",
       "      <td>rec.sport.baseball</td>\n",
       "    </tr>\n",
       "    <tr>\n",
       "      <th>131</th>\n",
       "      <td></td>\n",
       "      <td>comp.graphics</td>\n",
       "    </tr>\n",
       "    <tr>\n",
       "      <th>218</th>\n",
       "      <td>\\n</td>\n",
       "      <td>talk.politics.misc</td>\n",
       "    </tr>\n",
       "    <tr>\n",
       "      <th>318</th>\n",
       "      <td></td>\n",
       "      <td>rec.sport.baseball</td>\n",
       "    </tr>\n",
       "    <tr>\n",
       "      <th>...</th>\n",
       "      <td>...</td>\n",
       "      <td>...</td>\n",
       "    </tr>\n",
       "    <tr>\n",
       "      <th>3392</th>\n",
       "      <td></td>\n",
       "      <td>rec.sport.baseball</td>\n",
       "    </tr>\n",
       "    <tr>\n",
       "      <th>3441</th>\n",
       "      <td></td>\n",
       "      <td>sci.med</td>\n",
       "    </tr>\n",
       "    <tr>\n",
       "      <th>3504</th>\n",
       "      <td>Hello,</td>\n",
       "      <td>sci.med</td>\n",
       "    </tr>\n",
       "    <tr>\n",
       "      <th>3561</th>\n",
       "      <td></td>\n",
       "      <td>comp.graphics</td>\n",
       "    </tr>\n",
       "    <tr>\n",
       "      <th>3717</th>\n",
       "      <td></td>\n",
       "      <td>talk.politics.misc</td>\n",
       "    </tr>\n",
       "  </tbody>\n",
       "</table>\n",
       "<p>100 rows × 2 columns</p>\n",
       "</div>\n",
       "      <button class=\"colab-df-convert\" onclick=\"convertToInteractive('df-be2e3f4d-10f7-42f7-a4da-cf65a2f53fa3')\"\n",
       "              title=\"Convert this dataframe to an interactive table.\"\n",
       "              style=\"display:none;\">\n",
       "        \n",
       "  <svg xmlns=\"http://www.w3.org/2000/svg\" height=\"24px\"viewBox=\"0 0 24 24\"\n",
       "       width=\"24px\">\n",
       "    <path d=\"M0 0h24v24H0V0z\" fill=\"none\"/>\n",
       "    <path d=\"M18.56 5.44l.94 2.06.94-2.06 2.06-.94-2.06-.94-.94-2.06-.94 2.06-2.06.94zm-11 1L8.5 8.5l.94-2.06 2.06-.94-2.06-.94L8.5 2.5l-.94 2.06-2.06.94zm10 10l.94 2.06.94-2.06 2.06-.94-2.06-.94-.94-2.06-.94 2.06-2.06.94z\"/><path d=\"M17.41 7.96l-1.37-1.37c-.4-.4-.92-.59-1.43-.59-.52 0-1.04.2-1.43.59L10.3 9.45l-7.72 7.72c-.78.78-.78 2.05 0 2.83L4 21.41c.39.39.9.59 1.41.59.51 0 1.02-.2 1.41-.59l7.78-7.78 2.81-2.81c.8-.78.8-2.07 0-2.86zM5.41 20L4 18.59l7.72-7.72 1.47 1.35L5.41 20z\"/>\n",
       "  </svg>\n",
       "      </button>\n",
       "      \n",
       "  <style>\n",
       "    .colab-df-container {\n",
       "      display:flex;\n",
       "      flex-wrap:wrap;\n",
       "      gap: 12px;\n",
       "    }\n",
       "\n",
       "    .colab-df-convert {\n",
       "      background-color: #E8F0FE;\n",
       "      border: none;\n",
       "      border-radius: 50%;\n",
       "      cursor: pointer;\n",
       "      display: none;\n",
       "      fill: #1967D2;\n",
       "      height: 32px;\n",
       "      padding: 0 0 0 0;\n",
       "      width: 32px;\n",
       "    }\n",
       "\n",
       "    .colab-df-convert:hover {\n",
       "      background-color: #E2EBFA;\n",
       "      box-shadow: 0px 1px 2px rgba(60, 64, 67, 0.3), 0px 1px 3px 1px rgba(60, 64, 67, 0.15);\n",
       "      fill: #174EA6;\n",
       "    }\n",
       "\n",
       "    [theme=dark] .colab-df-convert {\n",
       "      background-color: #3B4455;\n",
       "      fill: #D2E3FC;\n",
       "    }\n",
       "\n",
       "    [theme=dark] .colab-df-convert:hover {\n",
       "      background-color: #434B5C;\n",
       "      box-shadow: 0px 1px 3px 1px rgba(0, 0, 0, 0.15);\n",
       "      filter: drop-shadow(0px 1px 2px rgba(0, 0, 0, 0.3));\n",
       "      fill: #FFFFFF;\n",
       "    }\n",
       "  </style>\n",
       "\n",
       "      <script>\n",
       "        const buttonEl =\n",
       "          document.querySelector('#df-be2e3f4d-10f7-42f7-a4da-cf65a2f53fa3 button.colab-df-convert');\n",
       "        buttonEl.style.display =\n",
       "          google.colab.kernel.accessAllowed ? 'block' : 'none';\n",
       "\n",
       "        async function convertToInteractive(key) {\n",
       "          const element = document.querySelector('#df-be2e3f4d-10f7-42f7-a4da-cf65a2f53fa3');\n",
       "          const dataTable =\n",
       "            await google.colab.kernel.invokeFunction('convertToInteractive',\n",
       "                                                     [key], {});\n",
       "          if (!dataTable) return;\n",
       "\n",
       "          const docLinkHtml = 'Like what you see? Visit the ' +\n",
       "            '<a target=\"_blank\" href=https://colab.research.google.com/notebooks/data_table.ipynb>data table notebook</a>'\n",
       "            + ' to learn more about interactive tables.';\n",
       "          element.innerHTML = '';\n",
       "          dataTable['output_type'] = 'display_data';\n",
       "          await google.colab.output.renderOutput(dataTable, element);\n",
       "          const docLink = document.createElement('div');\n",
       "          docLink.innerHTML = docLinkHtml;\n",
       "          element.appendChild(docLink);\n",
       "        }\n",
       "      </script>\n",
       "    </div>\n",
       "  </div>\n",
       "  "
      ],
      "text/plain": [
       "        text               topic\n",
       "40        \\n  rec.sport.baseball\n",
       "112           rec.sport.baseball\n",
       "131                comp.graphics\n",
       "218       \\n  talk.politics.misc\n",
       "318           rec.sport.baseball\n",
       "...      ...                 ...\n",
       "3392          rec.sport.baseball\n",
       "3441                     sci.med\n",
       "3504  Hello,             sci.med\n",
       "3561               comp.graphics\n",
       "3717          talk.politics.misc\n",
       "\n",
       "[100 rows x 2 columns]"
      ]
     },
     "execution_count": 9,
     "metadata": {},
     "output_type": "execute_result"
    }
   ],
   "source": [
    "df_newsgroups[df_newsgroups.text.duplicated()] # duplicates?\n",
    "# df_newsgroups[df_newsgroups.text==''] # empty text"
   ]
  },
  {
   "cell_type": "code",
   "execution_count": null,
   "metadata": {
    "colab": {
     "base_uri": "https://localhost:8080/",
     "height": 423
    },
    "id": "9kjzhfScwMND",
    "outputId": "4909f553-6489-47a2-b1eb-cfbde6e103c2"
   },
   "outputs": [
    {
     "data": {
      "text/html": [
       "\n",
       "  <div id=\"df-d1db298f-6fca-4db5-8490-9a1173157a1b\">\n",
       "    <div class=\"colab-df-container\">\n",
       "      <div>\n",
       "<style scoped>\n",
       "    .dataframe tbody tr th:only-of-type {\n",
       "        vertical-align: middle;\n",
       "    }\n",
       "\n",
       "    .dataframe tbody tr th {\n",
       "        vertical-align: top;\n",
       "    }\n",
       "\n",
       "    .dataframe thead th {\n",
       "        text-align: right;\n",
       "    }\n",
       "</style>\n",
       "<table border=\"1\" class=\"dataframe\">\n",
       "  <thead>\n",
       "    <tr style=\"text-align: right;\">\n",
       "      <th></th>\n",
       "      <th>text</th>\n",
       "      <th>topic</th>\n",
       "      <th>len</th>\n",
       "    </tr>\n",
       "  </thead>\n",
       "  <tbody>\n",
       "    <tr>\n",
       "      <th>0</th>\n",
       "      <td>\\nI guess I'm still not clear on what the term...</td>\n",
       "      <td>sci.med</td>\n",
       "      <td>1002</td>\n",
       "    </tr>\n",
       "    <tr>\n",
       "      <th>1</th>\n",
       "      <td>Could someone give me some information on the ...</td>\n",
       "      <td>sci.med</td>\n",
       "      <td>135</td>\n",
       "    </tr>\n",
       "    <tr>\n",
       "      <th>2</th>\n",
       "      <td>sandiego and graig nettles\\n\\n\\n</td>\n",
       "      <td>rec.sport.baseball</td>\n",
       "      <td>29</td>\n",
       "    </tr>\n",
       "    <tr>\n",
       "      <th>3</th>\n",
       "      <td>Hi there\\n\\nI am very interested in Rayshade 4...</td>\n",
       "      <td>comp.graphics</td>\n",
       "      <td>738</td>\n",
       "    </tr>\n",
       "    <tr>\n",
       "      <th>4</th>\n",
       "      <td>Here is a press release from the Natural Resou...</td>\n",
       "      <td>sci.med</td>\n",
       "      <td>7318</td>\n",
       "    </tr>\n",
       "    <tr>\n",
       "      <th>...</th>\n",
       "      <td>...</td>\n",
       "      <td>...</td>\n",
       "      <td>...</td>\n",
       "    </tr>\n",
       "    <tr>\n",
       "      <th>3727</th>\n",
       "      <td>Hello, and thank you for reading this request....</td>\n",
       "      <td>comp.graphics</td>\n",
       "      <td>193</td>\n",
       "    </tr>\n",
       "    <tr>\n",
       "      <th>3728</th>\n",
       "      <td>Just a little something I found while reading ...</td>\n",
       "      <td>rec.sport.baseball</td>\n",
       "      <td>1850</td>\n",
       "    </tr>\n",
       "    <tr>\n",
       "      <th>3729</th>\n",
       "      <td>(drieux, just drieux) writes (about the arme...</td>\n",
       "      <td>talk.politics.misc</td>\n",
       "      <td>89</td>\n",
       "    </tr>\n",
       "    <tr>\n",
       "      <th>3730</th>\n",
       "      <td>\\n\\nHey, Clayton, it's me again!  I just love ...</td>\n",
       "      <td>talk.politics.misc</td>\n",
       "      <td>286</td>\n",
       "    </tr>\n",
       "    <tr>\n",
       "      <th>3731</th>\n",
       "      <td>O.K.  It would be a shame for Cards fans on th...</td>\n",
       "      <td>rec.sport.baseball</td>\n",
       "      <td>522</td>\n",
       "    </tr>\n",
       "  </tbody>\n",
       "</table>\n",
       "<p>3732 rows × 3 columns</p>\n",
       "</div>\n",
       "      <button class=\"colab-df-convert\" onclick=\"convertToInteractive('df-d1db298f-6fca-4db5-8490-9a1173157a1b')\"\n",
       "              title=\"Convert this dataframe to an interactive table.\"\n",
       "              style=\"display:none;\">\n",
       "        \n",
       "  <svg xmlns=\"http://www.w3.org/2000/svg\" height=\"24px\"viewBox=\"0 0 24 24\"\n",
       "       width=\"24px\">\n",
       "    <path d=\"M0 0h24v24H0V0z\" fill=\"none\"/>\n",
       "    <path d=\"M18.56 5.44l.94 2.06.94-2.06 2.06-.94-2.06-.94-.94-2.06-.94 2.06-2.06.94zm-11 1L8.5 8.5l.94-2.06 2.06-.94-2.06-.94L8.5 2.5l-.94 2.06-2.06.94zm10 10l.94 2.06.94-2.06 2.06-.94-2.06-.94-.94-2.06-.94 2.06-2.06.94z\"/><path d=\"M17.41 7.96l-1.37-1.37c-.4-.4-.92-.59-1.43-.59-.52 0-1.04.2-1.43.59L10.3 9.45l-7.72 7.72c-.78.78-.78 2.05 0 2.83L4 21.41c.39.39.9.59 1.41.59.51 0 1.02-.2 1.41-.59l7.78-7.78 2.81-2.81c.8-.78.8-2.07 0-2.86zM5.41 20L4 18.59l7.72-7.72 1.47 1.35L5.41 20z\"/>\n",
       "  </svg>\n",
       "      </button>\n",
       "      \n",
       "  <style>\n",
       "    .colab-df-container {\n",
       "      display:flex;\n",
       "      flex-wrap:wrap;\n",
       "      gap: 12px;\n",
       "    }\n",
       "\n",
       "    .colab-df-convert {\n",
       "      background-color: #E8F0FE;\n",
       "      border: none;\n",
       "      border-radius: 50%;\n",
       "      cursor: pointer;\n",
       "      display: none;\n",
       "      fill: #1967D2;\n",
       "      height: 32px;\n",
       "      padding: 0 0 0 0;\n",
       "      width: 32px;\n",
       "    }\n",
       "\n",
       "    .colab-df-convert:hover {\n",
       "      background-color: #E2EBFA;\n",
       "      box-shadow: 0px 1px 2px rgba(60, 64, 67, 0.3), 0px 1px 3px 1px rgba(60, 64, 67, 0.15);\n",
       "      fill: #174EA6;\n",
       "    }\n",
       "\n",
       "    [theme=dark] .colab-df-convert {\n",
       "      background-color: #3B4455;\n",
       "      fill: #D2E3FC;\n",
       "    }\n",
       "\n",
       "    [theme=dark] .colab-df-convert:hover {\n",
       "      background-color: #434B5C;\n",
       "      box-shadow: 0px 1px 3px 1px rgba(0, 0, 0, 0.15);\n",
       "      filter: drop-shadow(0px 1px 2px rgba(0, 0, 0, 0.3));\n",
       "      fill: #FFFFFF;\n",
       "    }\n",
       "  </style>\n",
       "\n",
       "      <script>\n",
       "        const buttonEl =\n",
       "          document.querySelector('#df-d1db298f-6fca-4db5-8490-9a1173157a1b button.colab-df-convert');\n",
       "        buttonEl.style.display =\n",
       "          google.colab.kernel.accessAllowed ? 'block' : 'none';\n",
       "\n",
       "        async function convertToInteractive(key) {\n",
       "          const element = document.querySelector('#df-d1db298f-6fca-4db5-8490-9a1173157a1b');\n",
       "          const dataTable =\n",
       "            await google.colab.kernel.invokeFunction('convertToInteractive',\n",
       "                                                     [key], {});\n",
       "          if (!dataTable) return;\n",
       "\n",
       "          const docLinkHtml = 'Like what you see? Visit the ' +\n",
       "            '<a target=\"_blank\" href=https://colab.research.google.com/notebooks/data_table.ipynb>data table notebook</a>'\n",
       "            + ' to learn more about interactive tables.';\n",
       "          element.innerHTML = '';\n",
       "          dataTable['output_type'] = 'display_data';\n",
       "          await google.colab.output.renderOutput(dataTable, element);\n",
       "          const docLink = document.createElement('div');\n",
       "          docLink.innerHTML = docLinkHtml;\n",
       "          element.appendChild(docLink);\n",
       "        }\n",
       "      </script>\n",
       "    </div>\n",
       "  </div>\n",
       "  "
      ],
      "text/plain": [
       "                                                   text               topic  \\\n",
       "0     \\nI guess I'm still not clear on what the term...             sci.med   \n",
       "1     Could someone give me some information on the ...             sci.med   \n",
       "2                      sandiego and graig nettles\\n\\n\\n  rec.sport.baseball   \n",
       "3     Hi there\\n\\nI am very interested in Rayshade 4...       comp.graphics   \n",
       "4     Here is a press release from the Natural Resou...             sci.med   \n",
       "...                                                 ...                 ...   \n",
       "3727  Hello, and thank you for reading this request....       comp.graphics   \n",
       "3728  Just a little something I found while reading ...  rec.sport.baseball   \n",
       "3729    (drieux, just drieux) writes (about the arme...  talk.politics.misc   \n",
       "3730  \\n\\nHey, Clayton, it's me again!  I just love ...  talk.politics.misc   \n",
       "3731  O.K.  It would be a shame for Cards fans on th...  rec.sport.baseball   \n",
       "\n",
       "       len  \n",
       "0     1002  \n",
       "1      135  \n",
       "2       29  \n",
       "3      738  \n",
       "4     7318  \n",
       "...    ...  \n",
       "3727   193  \n",
       "3728  1850  \n",
       "3729    89  \n",
       "3730   286  \n",
       "3731   522  \n",
       "\n",
       "[3732 rows x 3 columns]"
      ]
     },
     "execution_count": 44,
     "metadata": {},
     "output_type": "execute_result"
    }
   ],
   "source": [
    "df_newsgroups['len']=df_newsgroups.text.apply(lambda x: len(x))\n",
    "df_newsgroups"
   ]
  },
  {
   "cell_type": "code",
   "execution_count": null,
   "metadata": {
    "colab": {
     "base_uri": "https://localhost:8080/",
     "height": 206
    },
    "id": "270k-WCfwknG",
    "outputId": "82e64837-3e90-4ada-eeff-5475ca2d7e6f"
   },
   "outputs": [
    {
     "data": {
      "text/html": [
       "\n",
       "  <div id=\"df-45b8e6b3-c54b-49cb-9428-390945c38dea\">\n",
       "    <div class=\"colab-df-container\">\n",
       "      <div>\n",
       "<style scoped>\n",
       "    .dataframe tbody tr th:only-of-type {\n",
       "        vertical-align: middle;\n",
       "    }\n",
       "\n",
       "    .dataframe tbody tr th {\n",
       "        vertical-align: top;\n",
       "    }\n",
       "\n",
       "    .dataframe thead th {\n",
       "        text-align: right;\n",
       "    }\n",
       "</style>\n",
       "<table border=\"1\" class=\"dataframe\">\n",
       "  <thead>\n",
       "    <tr style=\"text-align: right;\">\n",
       "      <th></th>\n",
       "      <th>count</th>\n",
       "      <th>mean</th>\n",
       "      <th>std</th>\n",
       "      <th>min</th>\n",
       "      <th>25%</th>\n",
       "      <th>50%</th>\n",
       "      <th>75%</th>\n",
       "      <th>max</th>\n",
       "    </tr>\n",
       "    <tr>\n",
       "      <th>topic</th>\n",
       "      <th></th>\n",
       "      <th></th>\n",
       "      <th></th>\n",
       "      <th></th>\n",
       "      <th></th>\n",
       "      <th></th>\n",
       "      <th></th>\n",
       "      <th></th>\n",
       "    </tr>\n",
       "  </thead>\n",
       "  <tbody>\n",
       "    <tr>\n",
       "      <th>comp.graphics</th>\n",
       "      <td>973.0</td>\n",
       "      <td>1294.299075</td>\n",
       "      <td>5581.068721</td>\n",
       "      <td>0.0</td>\n",
       "      <td>214.00</td>\n",
       "      <td>380.0</td>\n",
       "      <td>734.00</td>\n",
       "      <td>61278.0</td>\n",
       "    </tr>\n",
       "    <tr>\n",
       "      <th>rec.sport.baseball</th>\n",
       "      <td>994.0</td>\n",
       "      <td>724.451710</td>\n",
       "      <td>1058.131411</td>\n",
       "      <td>0.0</td>\n",
       "      <td>179.25</td>\n",
       "      <td>392.5</td>\n",
       "      <td>850.25</td>\n",
       "      <td>15161.0</td>\n",
       "    </tr>\n",
       "    <tr>\n",
       "      <th>sci.med</th>\n",
       "      <td>990.0</td>\n",
       "      <td>1309.617172</td>\n",
       "      <td>3466.242400</td>\n",
       "      <td>0.0</td>\n",
       "      <td>287.00</td>\n",
       "      <td>557.0</td>\n",
       "      <td>1105.75</td>\n",
       "      <td>37332.0</td>\n",
       "    </tr>\n",
       "    <tr>\n",
       "      <th>talk.politics.misc</th>\n",
       "      <td>775.0</td>\n",
       "      <td>1723.335484</td>\n",
       "      <td>4729.033868</td>\n",
       "      <td>0.0</td>\n",
       "      <td>295.50</td>\n",
       "      <td>664.0</td>\n",
       "      <td>1346.50</td>\n",
       "      <td>49094.0</td>\n",
       "    </tr>\n",
       "  </tbody>\n",
       "</table>\n",
       "</div>\n",
       "      <button class=\"colab-df-convert\" onclick=\"convertToInteractive('df-45b8e6b3-c54b-49cb-9428-390945c38dea')\"\n",
       "              title=\"Convert this dataframe to an interactive table.\"\n",
       "              style=\"display:none;\">\n",
       "        \n",
       "  <svg xmlns=\"http://www.w3.org/2000/svg\" height=\"24px\"viewBox=\"0 0 24 24\"\n",
       "       width=\"24px\">\n",
       "    <path d=\"M0 0h24v24H0V0z\" fill=\"none\"/>\n",
       "    <path d=\"M18.56 5.44l.94 2.06.94-2.06 2.06-.94-2.06-.94-.94-2.06-.94 2.06-2.06.94zm-11 1L8.5 8.5l.94-2.06 2.06-.94-2.06-.94L8.5 2.5l-.94 2.06-2.06.94zm10 10l.94 2.06.94-2.06 2.06-.94-2.06-.94-.94-2.06-.94 2.06-2.06.94z\"/><path d=\"M17.41 7.96l-1.37-1.37c-.4-.4-.92-.59-1.43-.59-.52 0-1.04.2-1.43.59L10.3 9.45l-7.72 7.72c-.78.78-.78 2.05 0 2.83L4 21.41c.39.39.9.59 1.41.59.51 0 1.02-.2 1.41-.59l7.78-7.78 2.81-2.81c.8-.78.8-2.07 0-2.86zM5.41 20L4 18.59l7.72-7.72 1.47 1.35L5.41 20z\"/>\n",
       "  </svg>\n",
       "      </button>\n",
       "      \n",
       "  <style>\n",
       "    .colab-df-container {\n",
       "      display:flex;\n",
       "      flex-wrap:wrap;\n",
       "      gap: 12px;\n",
       "    }\n",
       "\n",
       "    .colab-df-convert {\n",
       "      background-color: #E8F0FE;\n",
       "      border: none;\n",
       "      border-radius: 50%;\n",
       "      cursor: pointer;\n",
       "      display: none;\n",
       "      fill: #1967D2;\n",
       "      height: 32px;\n",
       "      padding: 0 0 0 0;\n",
       "      width: 32px;\n",
       "    }\n",
       "\n",
       "    .colab-df-convert:hover {\n",
       "      background-color: #E2EBFA;\n",
       "      box-shadow: 0px 1px 2px rgba(60, 64, 67, 0.3), 0px 1px 3px 1px rgba(60, 64, 67, 0.15);\n",
       "      fill: #174EA6;\n",
       "    }\n",
       "\n",
       "    [theme=dark] .colab-df-convert {\n",
       "      background-color: #3B4455;\n",
       "      fill: #D2E3FC;\n",
       "    }\n",
       "\n",
       "    [theme=dark] .colab-df-convert:hover {\n",
       "      background-color: #434B5C;\n",
       "      box-shadow: 0px 1px 3px 1px rgba(0, 0, 0, 0.15);\n",
       "      filter: drop-shadow(0px 1px 2px rgba(0, 0, 0, 0.3));\n",
       "      fill: #FFFFFF;\n",
       "    }\n",
       "  </style>\n",
       "\n",
       "      <script>\n",
       "        const buttonEl =\n",
       "          document.querySelector('#df-45b8e6b3-c54b-49cb-9428-390945c38dea button.colab-df-convert');\n",
       "        buttonEl.style.display =\n",
       "          google.colab.kernel.accessAllowed ? 'block' : 'none';\n",
       "\n",
       "        async function convertToInteractive(key) {\n",
       "          const element = document.querySelector('#df-45b8e6b3-c54b-49cb-9428-390945c38dea');\n",
       "          const dataTable =\n",
       "            await google.colab.kernel.invokeFunction('convertToInteractive',\n",
       "                                                     [key], {});\n",
       "          if (!dataTable) return;\n",
       "\n",
       "          const docLinkHtml = 'Like what you see? Visit the ' +\n",
       "            '<a target=\"_blank\" href=https://colab.research.google.com/notebooks/data_table.ipynb>data table notebook</a>'\n",
       "            + ' to learn more about interactive tables.';\n",
       "          element.innerHTML = '';\n",
       "          dataTable['output_type'] = 'display_data';\n",
       "          await google.colab.output.renderOutput(dataTable, element);\n",
       "          const docLink = document.createElement('div');\n",
       "          docLink.innerHTML = docLinkHtml;\n",
       "          element.appendChild(docLink);\n",
       "        }\n",
       "      </script>\n",
       "    </div>\n",
       "  </div>\n",
       "  "
      ],
      "text/plain": [
       "                    count         mean          std  min     25%    50%  \\\n",
       "topic                                                                     \n",
       "comp.graphics       973.0  1294.299075  5581.068721  0.0  214.00  380.0   \n",
       "rec.sport.baseball  994.0   724.451710  1058.131411  0.0  179.25  392.5   \n",
       "sci.med             990.0  1309.617172  3466.242400  0.0  287.00  557.0   \n",
       "talk.politics.misc  775.0  1723.335484  4729.033868  0.0  295.50  664.0   \n",
       "\n",
       "                        75%      max  \n",
       "topic                                 \n",
       "comp.graphics        734.00  61278.0  \n",
       "rec.sport.baseball   850.25  15161.0  \n",
       "sci.med             1105.75  37332.0  \n",
       "talk.politics.misc  1346.50  49094.0  "
      ]
     },
     "execution_count": 48,
     "metadata": {},
     "output_type": "execute_result"
    }
   ],
   "source": [
    "df_newsgroups.groupby('topic').len.describe()"
   ]
  },
  {
   "cell_type": "markdown",
   "metadata": {
    "id": "956ivzj4YCu-"
   },
   "source": [
    "## Visualization and Trends"
   ]
  },
  {
   "cell_type": "markdown",
   "metadata": {
    "id": "xYaZ_DbcYoOO"
   },
   "source": [
    "### Distribution of documents over topics"
   ]
  },
  {
   "cell_type": "code",
   "execution_count": null,
   "metadata": {
    "colab": {
     "base_uri": "https://localhost:8080/",
     "height": 594
    },
    "id": "5olKZrhsddLq",
    "outputId": "09e882b8-5516-40a5-f111-e2ee7e92dd66"
   },
   "outputs": [
    {
     "data": {
      "image/png": "[encoded data removed]",
      "text/plain": [
       "<Figure size 648x432 with 1 Axes>"
      ]
     },
     "metadata": {},
     "output_type": "display_data"
    },
    {
     "data": {
      "text/plain": [
       "rec.sport.baseball    994\n",
       "sci.med               990\n",
       "comp.graphics         973\n",
       "talk.politics.misc    775\n",
       "Name: topic, dtype: int64"
      ]
     },
     "execution_count": 49,
     "metadata": {},
     "output_type": "execute_result"
    }
   ],
   "source": [
    "plt.figure(figsize=(9,6))\n",
    "ax = df_newsgroups.groupby('topic').size().plot(kind='bar')\n",
    "df_y = df_newsgroups.topic\n",
    "\n",
    "# gets shapes and draws annotations\n",
    "for p in ax.patches: \n",
    "    height = p.get_height()\n",
    "    ax.text(p.get_x()+p.get_width()/2., height + 3,'{:1.2f}%'.format(height/len(df_y)*100), ha=\"center\") \n",
    "\n",
    "plt.show()\n",
    "df_y.value_counts()\n"
   ]
  },
  {
   "cell_type": "code",
   "execution_count": null,
   "metadata": {
    "colab": {
     "base_uri": "https://localhost:8080/",
     "height": 454
    },
    "id": "r2BVW3glX78Z",
    "outputId": "2de87b39-24e4-46b0-f8f0-345f8b83be03"
   },
   "outputs": [
    {
     "name": "stderr",
     "output_type": "stream",
     "text": [
      "/usr/local/lib/python3.7/dist-packages/seaborn/_decorators.py:43: FutureWarning: Pass the following variable as a keyword arg: x. From version 0.12, the only valid positional argument will be `data`, and passing other arguments without an explicit keyword will result in an error or misinterpretation.\n",
      "  FutureWarning\n"
     ]
    },
    {
     "data": {
      "image/png": "[encoded data removed]",
      "text/plain": [
       "<Figure size 648x432 with 1 Axes>"
      ]
     },
     "metadata": {},
     "output_type": "display_data"
    }
   ],
   "source": [
    "# here, using seaborn\n",
    "plt.figure(figsize=(9,6))\n",
    "\n",
    "df_y = df_newsgroups.topic\n",
    "#Show the counts of observations using bars.\n",
    "ax = sns.countplot(df_y) # Returns the matplotlib Axes object\n",
    "\n",
    "# gets shapes and draws annotations\n",
    "for p in ax.patches: \n",
    "    height = p.get_height()\n",
    "    ax.text(p.get_x()+p.get_width()/2., height + 3,'{:1.2f}%'.format(height/len(df_y)*100), ha=\"center\") \n",
    "plt.show()"
   ]
  },
  {
   "cell_type": "code",
   "execution_count": null,
   "metadata": {
    "id": "PpoqKx1kYZFG"
   },
   "outputs": [],
   "source": [
    "# ... complete the Exploratory Data Analysis"
   ]
  },
  {
   "cell_type": "markdown",
   "metadata": {
    "id": "7HjL1ySBgUzt"
   },
   "source": [
    "## Converting text to vectors\n",
    "In order to feed predictive, PCA or clustering models with the text data, one first need to turn the text into vectors of numerical values suitable for statistical analysis. "
   ]
  },
  {
   "cell_type": "markdown",
   "metadata": {
    "id": "11d4sAK6mb4z"
   },
   "source": [
    "**Universal Sentence Encoder**\n",
    "One of the most well-performing sentence embedding techniques is the Universal Sentence Encoder. And it should come as no surprise from anybody that it has been proposed by Google. The key feature here is that we can use it for Multi-task learning.  This means that the sentence embeddings we generate can be used for multiple tasks like sentiment analysis, text classification, sentence similarity, etc, and the results of these asks are then fed back to the model to get even better sentence vectors that before. \n",
    "\n",
    "**Ref.**\n",
    "* [PAPER Universal Sentence Encoder](https://arxiv.org/pdf/1803.11175.pdf)\n",
    "* [Top 4 Sentence Embedding Techniques using Python!](https://www.analyticsvidhya.com/blog/2020/08/top-4-sentence-embedding-techniques-using-python/)\n",
    "* [Universal Sentence Encoder Visually Explained](https://amitness.com/2020/06/universal-sentence-encoder/)\n",
    "\n",
    "<!-- ## Load USE model and convert texts into numbers -->\n",
    "\n",
    "**NOTE**: *USE model takes a variable length English text as input and outputs a 512 dimensional vector. Similar vectors tend to have similar meanings.*"
   ]
  },
  {
   "cell_type": "code",
   "execution_count": null,
   "metadata": {
    "colab": {
     "base_uri": "https://localhost:8080/"
    },
    "id": "KBqcCrw3k8Pa",
    "outputId": "8fc50194-0b47-4e24-8668-91745c0faf49"
   },
   "outputs": [
    {
     "name": "stdout",
     "output_type": "stream",
     "text": [
      "\u001b[K     |████████████████████████████████| 4.9 MB 5.1 MB/s \n",
      "\u001b[K     |████████████████████████████████| 462 kB 69.8 MB/s \n",
      "\u001b[?25hModel https://tfhub.dev/google/universal-sentence-encoder/4 loaded (click the link for more details)\n"
     ]
    }
   ],
   "source": [
    "#@title Choose USE model and run the cell { vertical-output: true, display-mode: \"form\" }\n",
    "#@markdown Smaller models for faster NLP,  Larger models for more accurate NLP\n",
    "\n",
    "!pip install -q  tensorflow_text\n",
    "\n",
    "import tensorflow as tf\n",
    "import tensorflow_hub as hub\n",
    "import tensorflow_text\n",
    "\n",
    "model_name = 'Large Model (English only)' #@param ['Small Model (English only)', 'Large Model (English only)','Small Model (Multilingual)', 'Large Model (Multilingual)']\n",
    "models_name = ['Small Model (English only)', 'Large Model (English only)','Small Model (Multilingual)', 'Large Model (Multilingual)']\n",
    "modules_url = [\"https://tfhub.dev/google/universal-sentence-encoder/4\", \"https://tfhub.dev/google/universal-sentence-encoder/4\", \"https://tfhub.dev/google/universal-sentence-encoder-large/5\",\"https://tfhub.dev/google/universal-sentence-encoder-multilingual/3\",\"https://tfhub.dev/google/universal-sentence-encoder-multilingual-large/3\"]\n",
    "\n",
    "module_url = dict(zip(models_name,modules_url))[model_name]\n",
    "\n",
    "model = hub.load(module_url)\n",
    "print (f\"Model {module_url} loaded (click the link for more details)\" )\n",
    "\n",
    "\n",
    "def embed(input):\n",
    "  return model(input).numpy()\n",
    "\n",
    "def text2vec(texts): \n",
    "  print(\"Converting texts into  vectors\" )\n",
    "  return embed(texts).tolist()"
   ]
  },
  {
   "cell_type": "code",
   "execution_count": null,
   "metadata": {
    "id": "SWg5eQq_lEsc"
   },
   "outputs": [],
   "source": [
    "# converting text into vectors\n",
    "df_newsgroups['vectors'] = text2vec(df_newsgroups.text.values)\n",
    "\n",
    "# We conveted texts into numerical vectors \n",
    "df_newsgroups.head(2)"
   ]
  },
  {
   "cell_type": "code",
   "execution_count": null,
   "metadata": {
    "id": "1qap5RPJLgrV"
   },
   "outputs": [],
   "source": [
    "X_text = df_newsgroups.text.values # text\n",
    "X_vec = np.array(list(df_newsgroups.vectors.values))  # text vetors\n",
    "y = df_newsgroups.topic.values #topic"
   ]
  },
  {
   "cell_type": "markdown",
   "metadata": {
    "id": "M8Cqjq7zegCg"
   },
   "source": [
    "**The vectors are already normalized**, so you don't have to scale them."
   ]
  },
  {
   "cell_type": "markdown",
   "metadata": {
    "id": "Y_shAt7hbYqk"
   },
   "source": [
    "## Multidimensional Visualization\n",
    "Visualization of text documents using PCA and/or TSNE(coloring according to topics)"
   ]
  },
  {
   "cell_type": "code",
   "execution_count": null,
   "metadata": {
    "id": "ImggqMo4hbeD"
   },
   "outputs": [],
   "source": [
    "# Example PCA\n",
    "from sklearn.decomposition import PCA\n",
    "\n",
    "pca = PCA(n_components=2)\n",
    "X = pca.fit_transform(X_vec)\n"
   ]
  },
  {
   "cell_type": "markdown",
   "metadata": {
    "id": "mEadRPN0dyXE"
   },
   "source": [
    "# Clustering"
   ]
  },
  {
   "cell_type": "code",
   "execution_count": null,
   "metadata": {
    "id": "COpvnw0sd5__"
   },
   "outputs": [],
   "source": [
    "from sklearn.cluster import KMeans\n"
   ]
  },
  {
   "cell_type": "markdown",
   "metadata": {
    "id": "xi7nM8zMJCZj"
   },
   "source": [
    "# Text classification"
   ]
  },
  {
   "cell_type": "code",
   "execution_count": null,
   "metadata": {
    "id": "ez6Ie1aa-wJx"
   },
   "outputs": [],
   "source": [
    "from sklearn.model_selection import train_test_split\n",
    "\n",
    "# Split dataset into training set and test set\n",
    "X_train, X_test, y_train, y_test = train_test_split(X_vec, y, test_size=0.3, stratify=y) \n"
   ]
  },
  {
   "cell_type": "code",
   "execution_count": null,
   "metadata": {
    "id": "c6fSOjqw7l7G"
   },
   "outputs": [],
   "source": []
  },
  {
   "cell_type": "markdown",
   "metadata": {
    "id": "oRz_03SOaAI4"
   },
   "source": [
    "## Models Optimization"
   ]
  },
  {
   "cell_type": "code",
   "execution_count": null,
   "metadata": {
    "id": "vbEJyihYaMcz"
   },
   "outputs": [],
   "source": [
    "from sklearn.model_selection import GridSearchCV\n"
   ]
  },
  {
   "cell_type": "markdown",
   "metadata": {
    "id": "339tuJ5Pwqqv"
   },
   "source": [
    "# EXTRA: Semantic Similarity \n",
    "These text vectors preserve more semantic and syntactic information on texts, leading to improved performance in almost every imaginable NLP task. Similar vectors tend to have similar meanings.\n",
    "\n",
    "<!-- - The distributional hypothesis in linguistics is derived from the semantic theory of language usage, i.e. words that are used and occur in the same contexts tend to purport similar meanings. \n",
    "- The distributional hypothesis is the basis for statistical semantics. -->\n",
    "\n",
    "<!-- Here we show the similarity in a heat map. The final graph is a 9x9 matrix where each entry `[i, j]` is colored based on the inner product of the encodings for sentence `i` and `j`. -->\n",
    "We can compute the similarity between vector lists by calculating the cosine angle between the two vector lists.\n",
    "\n",
    "[The cosine similarity measures](https://en.wikipedia.org/wiki/Cosine_similarity) : \n",
    "\n",
    "$similarity(A,B)={\\mathbf {A}  \\cdot \\mathbf {B} \\over  \\|\\mathbf {A} \\|\\|\\mathbf {B} \\| }$\n",
    "\n",
    "\n",
    "\n",
    "\n"
   ]
  },
  {
   "cell_type": "code",
   "execution_count": null,
   "metadata": {
    "colab": {
     "base_uri": "https://localhost:8080/",
     "height": 336
    },
    "id": "MbQ8qfzypKO7",
    "outputId": "bc5ea733-734a-4717-b683-20f6a63bd592"
   },
   "outputs": [
    {
     "data": {
      "text/html": [
       "<iframe width=\"560\" height=\"315\" src=\"https://www.youtube.com/embed/Dd16LVt5ct4?start=132\" title=\"YouTube video player\" frameborder=\"0\" allow=\"accelerometer; autoplay; clipboard-write; encrypted-media; gyroscope; picture-in-picture\" allowfullscreen></iframe>"
      ],
      "text/plain": [
       "<IPython.core.display.HTML object>"
      ]
     },
     "execution_count": 12,
     "metadata": {},
     "output_type": "execute_result"
    }
   ],
   "source": [
    "from IPython.display import HTML\n",
    "HTML('<iframe width=\"560\" height=\"315\" src=\"https://www.youtube.com/embed/Dd16LVt5ct4?start=132\" title=\"YouTube video player\" frameborder=\"0\" allow=\"accelerometer; autoplay; clipboard-write; encrypted-media; gyroscope; picture-in-picture\" allowfullscreen></iframe>')"
   ]
  },
  {
   "cell_type": "markdown",
   "metadata": {
    "id": "eXaMX6ymq49d"
   },
   "source": [
    "## Example 1: How to calculate the similarity matrix of texts using the cosine"
   ]
  },
  {
   "cell_type": "code",
   "execution_count": null,
   "metadata": {
    "colab": {
     "base_uri": "https://localhost:8080/",
     "height": 584
    },
    "id": "cPMCaxrZwp7t",
    "outputId": "7014651a-96d5-4209-eda3-69729ea2ebe5"
   },
   "outputs": [
    {
     "name": "stdout",
     "output_type": "stream",
     "text": [
      "Converting texts into  vectors\n"
     ]
    },
    {
     "data": {
      "image/png": "[encoded data removed]",
      "text/plain": [
       "<Figure size 432x288 with 2 Axes>"
      ]
     },
     "metadata": {},
     "output_type": "display_data"
    }
   ],
   "source": [
    "from sklearn.metrics.pairwise import cosine_similarity  # for cosine similarity\n",
    "# function to plot similarity matrix\n",
    "def plot_similarity(texts, similarity, rotation=90):\n",
    "  sns.set(font_scale=1.2)\n",
    "  g = sns.heatmap( similarity,\n",
    "      xticklabels=texts,yticklabels=texts,\n",
    "      vmin=0,vmax=1,cmap=\"YlOrRd\")\n",
    "  g.set_xticklabels(texts, rotation=rotation)\n",
    "  g.set_title(\"Semantic Textual Similarity\")\n",
    "      \n",
    "messages = [\n",
    "    # Smartphones\n",
    "    \"I like my phone\",\n",
    "    \"My phone is not good.\",\n",
    "    \"Your cellphone looks great.\",\n",
    "\n",
    "    # Weather\n",
    "    \"Recently a lot of hurricanes have hit the US\",\n",
    "    \"Global warming is real\",\n",
    "\n",
    "    # Food and health\n",
    "    \"An apple a day, keeps the doctors away\",\n",
    "    \"Eating strawberries is healthy\",\n",
    "\n",
    "    # Asking about age\n",
    "    \"How old are you?\",\n",
    "    \"what is your age?\",\n",
    "]\n",
    "\n",
    "# converts texts into vectors\n",
    "messages_vectors = text2vec(messages)\n",
    "\n",
    "# computes the similarity matrix using cosine similarity \n",
    "similarity_matrix = cosine_similarity(messages_vectors,messages_vectors)\n",
    "# plot semantic similarity\n",
    "plot_similarity(messages,similarity_matrix)"
   ]
  },
  {
   "cell_type": "markdown",
   "metadata": {
    "id": "XleMK9u7rUec"
   },
   "source": [
    "## Example 2: Search for similar text on the newsgroup dataset"
   ]
  },
  {
   "cell_type": "code",
   "execution_count": null,
   "metadata": {
    "id": "HLFnUUbajpQe"
   },
   "outputs": [],
   "source": [
    "my_post = \"Virus-induced immune dysregulation as a triggering factor for the development of drug rashes and autoimmune diseases: with emphasis on EB virus.\"\n",
    "# convert text into vector\n",
    "my_post_vector = text2vec([my_post])\n",
    "# computes similarity matrix between mypost and project dataset\n",
    "matrix_similarity = cosine_similarity(my_post_vector,X_vec)\n",
    "\n",
    "print('Most similar text from project dataset')\n",
    "# gets positional index with max similarity from project dataset \n",
    "id_most_similar = np.argmax(matrix_similarity[0])\n",
    "# print most similar text\n",
    "print(X_text[id_most_similar])"
   ]
  },
  {
   "cell_type": "markdown",
   "metadata": {
    "id": "q6jrxpUop60P"
   },
   "source": [
    "## Extra assignment\n",
    "Try to create a search function that takes a string (query) as input and returns the 5 texts of the newsgroup dataset most similar to the query"
   ]
  },
  {
   "cell_type": "markdown",
   "metadata": {
    "id": "CdTsm16pzVIZ"
   },
   "source": []
  }
 ],
 "metadata": {
  "colab": {
   "collapsed_sections": [
    "956ivzj4YCu-",
    "7HjL1ySBgUzt",
    "Y_shAt7hbYqk",
    "mEadRPN0dyXE",
    "xi7nM8zMJCZj"
   ],
   "name": "M02:NLP Newsgroups Project",
   "provenance": []
  },
  "kernelspec": {
   "display_name": "Python 3 (ipykernel)",
   "language": "python",
   "name": "python3"
  },
  "language_info": {
   "codemirror_mode": {
    "name": "ipython",
    "version": 3
   },
   "file_extension": ".py",
   "mimetype": "text/x-python",
   "name": "python",
   "nbconvert_exporter": "python",
   "pygments_lexer": "ipython3",
   "version": "3.9.10"
  }
 },
 "nbformat": 4,
 "nbformat_minor": 4
}
